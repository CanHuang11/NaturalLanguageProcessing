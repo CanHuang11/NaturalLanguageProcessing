{
 "cells": [
  {
   "cell_type": "code",
   "execution_count": 13,
   "metadata": {
    "collapsed": true
   },
   "outputs": [],
   "source": [
    "import nltk\n",
    "import re\n",
    "import heapq\n",
    "import numpy as np"
   ]
  },
  {
   "cell_type": "code",
   "execution_count": 19,
   "metadata": {},
   "outputs": [],
   "source": [
    "paragraph=\"Beans. I was trying to explain to somebody as we were flying in, that’s corn. That’s beans in flying mood.\""
   ]
  },
  {
   "cell_type": "code",
   "execution_count": 20,
   "metadata": {
    "collapsed": true
   },
   "outputs": [],
   "source": [
    "sentences=nltk.sent_tokenize(paragraph)"
   ]
  },
  {
   "cell_type": "code",
   "execution_count": 21,
   "metadata": {},
   "outputs": [
    {
     "name": "stdout",
     "output_type": "stream",
     "text": [
      "beans \n",
      "i was trying to explain to somebody as we were flying in that s corn \n",
      "that s beans in flying mood \n"
     ]
    }
   ],
   "source": [
    "for i in range(len(sentences)):\n",
    "    sentences[i]= sentences[i].lower()\n",
    "    sentences[i]=re.sub(r\"\\W\",' ',sentences[i])\n",
    "    sentences[i]=re.sub(r\"\\s+\",\" \",sentences[i])\n",
    "    print(sentences[i])"
   ]
  },
  {
   "cell_type": "code",
   "execution_count": 22,
   "metadata": {},
   "outputs": [
    {
     "name": "stdout",
     "output_type": "stream",
     "text": [
      "{'beans': 2, 'i': 1, 'was': 1, 'trying': 1, 'to': 2, 'explain': 1, 'somebody': 1, 'as': 1, 'we': 1, 'were': 1, 'flying': 2, 'in': 2, 'that': 2, 's': 2, 'corn': 1, 'mood': 1}\n"
     ]
    }
   ],
   "source": [
    "word2count={}\n",
    "for data in sentences:\n",
    "    words= nltk.word_tokenize(data)\n",
    "    for word in words:\n",
    "        if word not in word2count.keys():\n",
    "            word2count[word]=1\n",
    "        else:\n",
    "            word2count[word]+=1\n",
    "print(word2count)"
   ]
  },
  {
   "cell_type": "code",
   "execution_count": 24,
   "metadata": {},
   "outputs": [
    {
     "name": "stdout",
     "output_type": "stream",
     "text": [
      "['beans', 'to', 'flying', 'in', 'that', 's', 'i', 'was', 'trying', 'explain']\n"
     ]
    }
   ],
   "source": [
    "freq_words=heapq.nlargest(10,word2count,key=word2count.get)  # take 10 most frequent words\n",
    "print(freq_words)"
   ]
  },
  {
   "cell_type": "markdown",
   "metadata": {},
   "source": [
    "# IDF Matrix"
   ]
  },
  {
   "cell_type": "code",
   "execution_count": 25,
   "metadata": {},
   "outputs": [
    {
     "name": "stdout",
     "output_type": "stream",
     "text": [
      "{'beans': 0.91629073187415511, 'to': 1.3862943611198906, 'flying': 0.91629073187415511, 'in': 0.91629073187415511, 'that': 0.91629073187415511, 's': 0.91629073187415511, 'i': 1.3862943611198906, 'was': 1.3862943611198906, 'trying': 1.3862943611198906, 'explain': 1.3862943611198906}\n"
     ]
    }
   ],
   "source": [
    "word_idf={}\n",
    "for word in freq_words:\n",
    "    doc_count=0                      # No of docs containing that specific word\n",
    "    for data in sentences:\n",
    "        if word in nltk.word_tokenize(data):\n",
    "            doc_count+=1\n",
    "    word_idf[word]= np.log((len(sentences)/doc_count)+1)     # +1 is a bias, not necessary to use it\n",
    "print(word_idf)\n",
    "    "
   ]
  },
  {
   "cell_type": "markdown",
   "metadata": {},
   "source": [
    "# TF Matrix"
   ]
  },
  {
   "cell_type": "code",
   "execution_count": 27,
   "metadata": {},
   "outputs": [
    {
     "name": "stdout",
     "output_type": "stream",
     "text": [
      "{'beans': [1.0, 0.0, 0.16666666666666666], 'to': [0.0, 0.13333333333333333, 0.0], 'flying': [0.0, 0.06666666666666667, 0.16666666666666666], 'in': [0.0, 0.06666666666666667, 0.16666666666666666], 'that': [0.0, 0.06666666666666667, 0.16666666666666666], 's': [0.0, 0.06666666666666667, 0.16666666666666666], 'i': [0.0, 0.06666666666666667, 0.0], 'was': [0.0, 0.06666666666666667, 0.0], 'trying': [0.0, 0.06666666666666667, 0.0], 'explain': [0.0, 0.06666666666666667, 0.0]}\n"
     ]
    }
   ],
   "source": [
    "tf_matrix= {}\n",
    "\n",
    "for word in freq_words:\n",
    "    doc_tf=[]        \n",
    "    for data in sentences:\n",
    "        frequency = 0\n",
    "        for w in nltk.word_tokenize(data):\n",
    "            if w== word:\n",
    "                frequency+=1\n",
    "        tf_word = frequency/len(nltk.word_tokenize(data))\n",
    "        doc_tf.append(tf_word)\n",
    "    tf_matrix[word]=doc_tf\n",
    "\n",
    "\n",
    "print(tf_matrix)"
   ]
  },
  {
   "cell_type": "markdown",
   "metadata": {},
   "source": [
    "# TF-IDF Calculation"
   ]
  },
  {
   "cell_type": "code",
   "execution_count": 28,
   "metadata": {},
   "outputs": [
    {
     "name": "stdout",
     "output_type": "stream",
     "text": [
      "[[0.91629073187415511, 0.0, 0.15271512197902584], [0.0, 0.18483924814931874, 0.0], [0.0, 0.061086048791610337, 0.15271512197902584], [0.0, 0.061086048791610337, 0.15271512197902584], [0.0, 0.061086048791610337, 0.15271512197902584], [0.0, 0.061086048791610337, 0.15271512197902584], [0.0, 0.092419624074659368, 0.0], [0.0, 0.092419624074659368, 0.0], [0.0, 0.092419624074659368, 0.0], [0.0, 0.092419624074659368, 0.0]]\n"
     ]
    }
   ],
   "source": [
    "tfidf_matrix = []\n",
    "for word in tf_matrix.keys():\n",
    "    tfidf= []\n",
    "    for value in tf_matrix[word]:\n",
    "        score = value * word_idf[word]\n",
    "        tfidf.append(score)\n",
    "    tfidf_matrix.append(tfidf)\n",
    "    \n",
    "print(tfidf_matrix)"
   ]
  },
  {
   "cell_type": "code",
   "execution_count": 30,
   "metadata": {},
   "outputs": [
    {
     "name": "stdout",
     "output_type": "stream",
     "text": [
      "[[ 0.91629073  0.          0.15271512]\n",
      " [ 0.          0.18483925  0.        ]\n",
      " [ 0.          0.06108605  0.15271512]\n",
      " [ 0.          0.06108605  0.15271512]\n",
      " [ 0.          0.06108605  0.15271512]\n",
      " [ 0.          0.06108605  0.15271512]\n",
      " [ 0.          0.09241962  0.        ]\n",
      " [ 0.          0.09241962  0.        ]\n",
      " [ 0.          0.09241962  0.        ]\n",
      " [ 0.          0.09241962  0.        ]]\n"
     ]
    }
   ],
   "source": [
    "x= np.asarray(tfidf_matrix)\n",
    "print(x)"
   ]
  },
  {
   "cell_type": "code",
   "execution_count": 31,
   "metadata": {},
   "outputs": [
    {
     "name": "stdout",
     "output_type": "stream",
     "text": [
      "[[ 0.91629073  0.          0.          0.          0.          0.          0.\n",
      "   0.          0.          0.        ]\n",
      " [ 0.          0.18483925  0.06108605  0.06108605  0.06108605  0.06108605\n",
      "   0.09241962  0.09241962  0.09241962  0.09241962]\n",
      " [ 0.15271512  0.          0.15271512  0.15271512  0.15271512  0.15271512\n",
      "   0.          0.          0.          0.        ]]\n"
     ]
    }
   ],
   "source": [
    "x=np.transpose(x)\n",
    "print(x)"
   ]
  },
  {
   "cell_type": "code",
   "execution_count": null,
   "metadata": {
    "collapsed": true
   },
   "outputs": [],
   "source": []
  }
 ],
 "metadata": {
  "kernelspec": {
   "display_name": "Python 3",
   "language": "python",
   "name": "python3"
  },
  "language_info": {
   "codemirror_mode": {
    "name": "ipython",
    "version": 3
   },
   "file_extension": ".py",
   "mimetype": "text/x-python",
   "name": "python",
   "nbconvert_exporter": "python",
   "pygments_lexer": "ipython3",
   "version": "3.6.2"
  }
 },
 "nbformat": 4,
 "nbformat_minor": 2
}
