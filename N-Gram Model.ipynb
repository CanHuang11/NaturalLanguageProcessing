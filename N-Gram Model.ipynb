{
 "cells": [
  {
   "cell_type": "code",
   "execution_count": 34,
   "metadata": {
    "collapsed": true
   },
   "outputs": [],
   "source": [
    "import random\n",
    "import nltk"
   ]
  },
  {
   "cell_type": "markdown",
   "metadata": {},
   "source": [
    "# Creating N-Gram Character Model"
   ]
  },
  {
   "cell_type": "code",
   "execution_count": 10,
   "metadata": {
    "collapsed": true
   },
   "outputs": [],
   "source": [
    "text= \"Climate change is associated with shifts in global weather patterns, especially an increase in ambient temperature, and is deemed a formidable threat to human health. Skin cancer, a non-communicable disease, has been underexplored in relation to a changing climate. Exposure to solar ultraviolet radiation (UVR) is the major environmental risk factor for skin cancer. South Africa is situated in the mid-latitudes and experiences relatively high levels of sun exposure with summertime UV Index values greater than 10. The incidence of skin cancer in the population group with fair skin is considered high, with cost implications relating to diagnosis and treatment. Here, the relationship between skin cancer and several environmental factors likely to be affected by climate change in South Africa are discussed including airborne pollutants, solar UVR, ambient temperature and rainfall. Recommended strategies for personal sun protection, such as shade, clothing, sunglasses and sunscreen, may change as human behaviour adapts to a warming climate. Further research and data are required to assess any future impact of climate change on the incidence of skin cancer in South Africa.\""
   ]
  },
  {
   "cell_type": "code",
   "execution_count": 30,
   "metadata": {
    "collapsed": true
   },
   "outputs": [],
   "source": [
    "n=3"
   ]
  },
  {
   "cell_type": "code",
   "execution_count": 31,
   "metadata": {
    "collapsed": true
   },
   "outputs": [],
   "source": [
    "ngrams= {}"
   ]
  },
  {
   "cell_type": "code",
   "execution_count": 32,
   "metadata": {},
   "outputs": [
    {
     "name": "stdout",
     "output_type": "stream",
     "text": [
      "{'Cli': ['m'], 'lim': ['a', 'a', 'a', 'a', 'a'], 'ima': ['t', 't', 't', 't', 't'], 'mat': ['e', 'e', 'e', 'e', 'e'], 'ate': [' ', 'd', '.', 'd', 'r', ' ', 'g', '.', ' '], 'te ': ['c', 'c', 'c'], 'e c': ['h', 'h', 'h'], ' ch': ['a', 'a', 'a', 'a', 'a'], 'cha': ['n', 'n', 'n', 'n', 'n'], 'han': ['g', 'g', ' ', 'g', 'g', 'g'], 'ang': ['e', 'i', 'e', 'e', 'e'], 'nge': [' ', ' ', ' ', ' '], 'ge ': ['i', 'i', 'a', 'o'], 'e i': ['s', 'n', 'n', 'n', 'm', 'n'], ' is': [' ', ' ', ' ', ' ', ' '], 'is ': ['a', 'd', 't', 's', 'c', 'a'], 's a': ['s', 'n', 'n', 'n', 'n'], ' as': ['s', ' ', ' ', 's'], 'ass': ['o', 'e', 'e'], 'sso': ['c'], 'soc': ['i'], 'oci': ['a'], 'cia': ['t', 'l'], 'iat': ['e', 'i'], 'ted': [' ', ' ', ' '], 'ed ': ['w', 'a', 'i', 'i', 'h', 'b', 'i', 's', 't'], 'd w': ['i'], ' wi': ['t', 't', 't', 't'], 'wit': ['h', 'h', 'h', 'h'], 'ith': [' ', ' ', ' ', ' '], 'th ': ['s', 'A', 's', 'f', 'c', 'A', 'A'], 'h s': ['h', 'u'], ' sh': ['i', 'a'], 'shi': ['f', 'p'], 'hif': ['t'], 'ift': ['s'], 'fts': [' '], 'ts ': ['i', 't'], 's i': ['n'], ' in': [' ', 'c', ' ', ' ', ' ', 'c', ' ', ' ', 'c', 'c', ' '], 'in ': ['g', 'a', 'c', 'r', 'c', 't', 'c', 't', 'i', 'c', 'S', 'c', 'S'], 'n g': ['l', 'r'], ' gl': ['o'], 'glo': ['b'], 'lob': ['a'], 'oba': ['l'], 'bal': [' '], 'al ': ['w', 'r', 'e', 'f', 's'], 'l w': ['e'], ' we': ['a'], 'wea': ['t'], 'eat': ['h', ' ', 'e', 'm'], 'ath': ['e'], 'the': ['r', ' ', ' ', ' ', ' ', 'r', ' '], 'her': [' ', ' '], 'er ': ['p', 't', 'i', 'a', 'r', 'i'], 'r p': ['a', 'e'], ' pa': ['t'], 'pat': ['t'], 'att': ['e'], 'tte': ['r'], 'ter': ['n', ' '], 'ern': ['s'], 'rns': [','], 'ns,': [' '], 's, ': ['e', 's'], ', e': ['s'], ' es': ['p'], 'esp': ['e'], 'spe': ['c'], 'pec': ['i'], 'eci': ['a'], 'ial': ['l'], 'all': ['y', '.'], 'lly': [' '], 'ly ': ['a', 'h', 't'], 'y a': ['n'], ' an': [' ', 'd', 'd', 'd', 'd', 'd', 'd', 'd', 'y'], 'an ': ['i', 'h', '1', 'b'], 'n i': ['n', 's'], 'inc': ['r', 'i', 'l', 'i'], 'ncr': ['e'], 'cre': ['a', 'e'], 'rea': ['s', 't', 't', 't'], 'eas': ['e', 'e'], 'ase': [' ', ','], 'se ': ['i'], 'n a': ['m'], ' am': ['b', 'b'], 'amb': ['i', 'i'], 'mbi': ['e', 'e'], 'bie': ['n', 'n'], 'ien': ['t', 'c', 't'], 'ent': [' ', 'a', '.', 'a', ' '], 'nt ': ['t', 't'], 't t': ['e', 'o', 'e'], ' te': ['m', 'm'], 'tem': ['p', 'p'], 'emp': ['e', 'e'], 'mpe': ['r', 'r'], 'per': ['a', 'i', 'a', 's'], 'era': ['t', 'l', 't'], 'rat': ['u', 'u', 'e'], 'atu': ['r', 'r'], 'tur': ['e', 'e', 'e'], 'ure': [',', ' ', ' ', ' ', ' '], 're,': [' ', ' '], 'e, ': ['a', 'h', 't', 'c'], ', a': ['n', ' ', 'm'], 'and': [' ', ' ', ' ', ' ', ' ', ' ', ' '], 'nd ': ['i', 'e', 't', 's', 'r', 's', 'd'], 'd i': ['s', 'n', 'n', 'n'], 's d': ['e'], ' de': ['e'], 'dee': ['m'], 'eem': ['e'], 'eme': ['d'], 'med': [' '], 'd a': [' '], ' a ': ['f', 'n', 'c', 'w'], 'a f': ['o'], ' fo': ['r', 'r', 'r'], 'for': ['m', ' ', ' '], 'orm': ['i'], 'rmi': ['d', 'n'], 'mid': ['a', '-'], 'ida': ['b'], 'dab': ['l'], 'abl': ['e', 'e'], 'ble': [' ', ' '], 'le ': ['t', 'd'], 'e t': ['h', 'o'], ' th': ['r', 'e', 'e', 'a', 'e', 'e', 'e'], 'thr': ['e'], 'hre': ['a'], 'at ': ['t'], ' to': [' ', ' ', ' ', ' ', ' ', ' ', ' '], 'to ': ['h', 'a', 's', 'd', 'b', 'a', 'a'], 'o h': ['u'], ' hu': ['m', 'm'], 'hum': ['a', 'a'], 'uma': ['n', 'n'], 'man': [' ', ' '], 'n h': ['e'], ' he': ['a'], 'hea': ['l'], 'eal': ['t'], 'alt': ['h'], 'lth': ['.'], 'th.': [' '], 'h. ': ['S'], '. S': ['k', 'o'], ' Sk': ['i'], 'Ski': ['n'], 'kin': [' ', ' ', ' ', ' ', ' ', ' '], 'n c': ['a', 'a', 'a', 'a', 'a'], ' ca': ['n', 'n', 'n', 'n', 'n'], 'can': ['c', 'c', 'c', 'c', 'c'], 'anc': ['e', 'e', 'e', 'e', 'e'], 'nce': ['r', 'r', 's', ' ', 'r', 'r', ' ', 'r'], 'cer': [',', '.', ' ', ' ', ' '], 'er,': [' '], 'r, ': ['a'], 'a n': ['o'], ' no': ['n'], 'non': ['-'], 'on-': ['c'], 'n-c': ['o'], '-co': ['m'], 'com': ['m', 'm'], 'omm': ['u', 'e'], 'mmu': ['n'], 'mun': ['i'], 'uni': ['c'], 'nic': ['a'], 'ica': ['b', ' ', 't', ' ', '.'], 'cab': ['l'], 'e d': ['i', 'i'], ' di': ['s', 'a', 's'], 'dis': ['e', 'c'], 'ise': ['a'], 'sea': ['s', 'r'], 'se,': [' '], ', h': ['a'], ' ha': ['s'], 'has': [' '], 'as ': ['b', 's', 'h'], 's b': ['e'], ' be': ['e', 't', ' ', 'h'], 'bee': ['n'], 'een': [' ', ' ', ','], 'en ': ['u', 's'], 'n u': ['n'], ' un': ['d'], 'und': ['e'], 'nde': ['r', 'x', 'd'], 'der': ['e', 'e'], 'ere': ['x', 'd', ','], 'rex': ['p'], 'exp': ['l', 'e', 'o'], 'xpl': ['o'], 'plo': ['r'], 'lor': ['e'], 'ore': ['d'], 'red': [' ', ' ', ' '], 'n r': ['e'], ' re': ['l', 'l', 'l', 'l', 's', 'q'], 'rel': ['a', 'a', 'a', 'a'], 'ela': ['t', 't', 't', 't'], 'lat': ['i', 'i', 'i', 'i', 'i', 'i'], 'ati': ['o', 'o', 't', 'v', 'o', 'o', 'n', 'o'], 'tio': ['n', 'n', 'n', 'n', 'n', 'n'], 'ion': [' ', ' ', ' ', 's', 's', ','], 'on ': ['t', '(', 'g', 't'], 'n t': ['o', 'h', 'h', 'h'], 'o a': [' ', ' ', 's'], 'a c': ['h'], 'ngi': ['n'], 'gin': ['g'], 'ing': [' ', ' ', ' ', ',', ' '], 'ng ': ['c', 't', 'a', 'c'], 'g c': ['l', 'l'], ' cl': ['i', 'i', 'o', 'i', 'i'], 'cli': ['m', 'm', 'm', 'm'], 'te.': [' ', ' '], 'e. ': ['E', 'F'], '. E': ['x'], ' Ex': ['p'], 'Exp': ['o'], 'xpo': ['s', 's'], 'pos': ['u', 'u'], 'osu': ['r', 'r'], 'sur': ['e', 'e'], 're ': ['t', 'w', 'd', 'a', 'r', 'i'], 'o s': ['o'], ' so': ['l', 'l'], 'sol': ['a', 'a'], 'ola': ['r', 'r'], 'lar': [' ', ' '], 'ar ': ['u', 'U'], 'r u': ['l'], ' ul': ['t'], 'ult': ['r'], 'ltr': ['a'], 'tra': ['v', 't'], 'rav': ['i'], 'avi': ['o', 'o'], 'vio': ['l', 'u'], 'iol': ['e'], 'ole': ['t'], 'let': [' '], 'et ': ['r'], 't r': ['a'], ' ra': ['d', 'i'], 'rad': ['i'], 'adi': ['a'], 'dia': ['t', 'g'], 'n (': ['U'], ' (U': ['V'], '(UV': ['R'], 'UVR': [')', ','], 'VR)': [' '], 'R) ': ['i'], ') i': ['s'], 's t': ['h', 'o'], 'he ': ['m', 'm', 'i', 'p', 'r', 'i'], 'e m': ['a', 'i'], ' ma': ['j', 'y'], 'maj': ['o'], 'ajo': ['r'], 'jor': [' '], 'or ': ['e', 'f', 's', 'p'], 'r e': ['n'], ' en': ['v', 'v'], 'env': ['i', 'i'], 'nvi': ['r', 'r'], 'vir': ['o', 'o'], 'iro': ['n', 'n'], 'ron': ['m', 'm'], 'onm': ['e', 'e'], 'nme': ['n', 'n'], 'men': ['t', 't', 't', 'd'], 'nta': ['l', 'l'], 'tal': [' ', ' '], 'l r': ['i'], ' ri': ['s'], 'ris': ['k'], 'isk': [' '], 'sk ': ['f'], 'k f': ['a'], ' fa': ['c', 'i', 'c'], 'fac': ['t', 't'], 'act': ['o', 'o', ' '], 'cto': ['r', 'r'], 'tor': [' ', 's'], 'r f': ['o'], 'r s': ['k', 'k'], ' sk': ['i', 'i', 'i', 'i', 'i'], 'ski': ['n', 'n', 'n', 'n', 'n'], 'er.': [' '], 'r. ': ['S'], ' So': ['u', 'u', 'u'], 'Sou': ['t', 't', 't'], 'out': ['h', 'h', 'h'], 'uth': [' ', ' ', ' '], 'h A': ['f', 'f', 'f'], ' Af': ['r', 'r', 'r'], 'Afr': ['i', 'i', 'i'], 'fri': ['c', 'c', 'c'], 'ric': ['a', 'a', 'a'], 'ca ': ['i', 'a'], 'a i': ['s'], 's s': ['i', 'h'], ' si': ['t'], 'sit': ['u'], 'itu': ['a', 'd'], 'tua': ['t'], 'uat': ['e'], ' mi': ['d'], 'id-': ['l'], 'd-l': ['a'], '-la': ['t'], 'tit': ['u'], 'tud': ['e'], 'ude': ['s'], 'des': [' '], 'es ': ['a', 'r', 'g', 'f', 'a'], 'd e': ['x'], ' ex': ['p', 'p'], 'xpe': ['r'], 'eri': ['e'], 'rie': ['n'], 'enc': ['e', 'e', 'e'], 'ces': [' '], 's r': ['e', 'e'], 'tiv': ['e'], 'ive': ['l'], 'vel': ['y', 's'], 'ely': [' ', ' '], 'y h': ['i'], ' hi': ['g', 'g'], 'hig': ['h', 'h'], 'igh': [' ', ','], 'gh ': ['l'], 'h l': ['e'], ' le': ['v'], 'lev': ['e'], 'eve': ['l', 'r'], 'els': [' '], 'ls ': ['o'], 's o': ['f'], ' of': [' ', ' ', ' ', ' '], 'of ': ['s', 's', 'c', 's'], 'f s': ['u', 'k', 'k'], ' su': ['n', 'm', 'n', 'c', 'n', 'n'], 'sun': [' ', ' ', 'g', 's'], 'un ': ['e', 'p'], 'n e': ['x'], 'e w': ['i'], 'sum': ['m'], 'umm': ['e'], 'mme': ['r', 'n'], 'mer': ['t'], 'ert': ['i'], 'rti': ['m'], 'tim': ['e'], 'ime': [' '], 'me ': ['U'], 'e U': ['V'], ' UV': [' ', 'R'], 'UV ': ['I'], 'V I': ['n'], ' In': ['d'], 'Ind': ['e'], 'dex': [' '], 'ex ': ['v'], 'x v': ['a'], ' va': ['l'], 'val': ['u'], 'alu': ['e'], 'lue': ['s'], 'ues': [' '], 's g': ['r'], ' gr': ['e', 'o'], 'gre': ['a'], 'r t': ['h'], 'tha': ['n'], 'n 1': ['0'], ' 10': ['.'], '10.': [' '], '0. ': ['T'], '. T': ['h'], ' Th': ['e'], 'The': [' '], 'nci': ['d', 'd'], 'cid': ['e', 'e'], 'ide': ['n', 'r', 'n'], 'den': ['c', 'c'], 'ce ': ['o', 'o'], 'e o': ['f', 'n', 'f'], 'r i': ['n', 'n'], 'e p': ['o', 'o'], ' po': ['p', 'l'], 'pop': ['u'], 'opu': ['l'], 'pul': ['a'], 'ula': ['t'], 'gro': ['u'], 'rou': ['p'], 'oup': [' '], 'up ': ['w'], 'p w': ['i'], 'h f': ['a'], 'fai': ['r'], 'air': [' ', 'b'], 'ir ': ['s'], 's c': ['o'], ' co': ['n', 's'], 'con': ['s'], 'ons': ['i', ' ', 'h'], 'nsi': ['d'], 'sid': ['e'], 'd h': ['i'], 'gh,': [' '], 'h, ': ['w'], ', w': ['i'], 'h c': ['o'], 'cos': ['t'], 'ost': [' '], 'st ': ['i'], 't i': ['m'], ' im': ['p', 'p'], 'imp': ['l', 'a'], 'mpl': ['i'], 'pli': ['c'], 'lic': ['a'], 'cat': ['i'], 'ns ': ['r'], 'tin': ['g'], 'g t': ['o'], 'o d': ['i'], 'iag': ['n'], 'agn': ['o'], 'gno': ['s'], 'nos': ['i'], 'osi': ['s'], 'sis': [' '], 'd t': ['r', 'o'], ' tr': ['e'], 'tre': ['a'], 'atm': ['e'], 'tme': ['n'], 'nt.': [' '], 't. ': ['H'], '. H': ['e'], ' He': ['r'], 'Her': ['e'], ', t': ['h'], 'e r': ['e', 'e'], 'nsh': ['i'], 'hip': [' '], 'ip ': ['b'], 'p b': ['e'], 'bet': ['w'], 'etw': ['e'], 'twe': ['e'], 'wee': ['n'], 'n s': ['k'], 'r a': ['n', 'd'], 'd s': ['e', 't', 'u'], ' se': ['v'], 'sev': ['e'], 'ver': ['a'], 'ral': [' '], 'l e': ['n'], 'l f': ['a'], 'ors': [' '], 'rs ': ['l'], 's l': ['i'], ' li': ['k'], 'lik': ['e'], 'ike': ['l'], 'kel': ['y'], 'y t': ['o'], 'o b': ['e'], 'be ': ['a'], 'e a': ['f', 'n', 's'], ' af': ['f'], 'aff': ['e'], 'ffe': ['c'], 'fec': ['t'], 'ect': ['e', 'i'], 'cte': ['d'], 'd b': ['y'], ' by': [' '], 'by ': ['c'], 'y c': ['l', 'h'], 'n S': ['o', 'o'], 'a a': ['r', 'r'], ' ar': ['e', 'e'], 'are': [' ', ' '], 'isc': ['u'], 'scu': ['s'], 'cus': ['s'], 'uss': ['e'], 'sse': ['d', 's', 's'], 'sed': [' '], 'ncl': ['u'], 'clu': ['d'], 'lud': ['i'], 'udi': ['n'], 'din': ['g'], 'g a': ['i'], ' ai': ['r'], 'irb': ['o'], 'rbo': ['r'], 'bor': ['n'], 'orn': ['e'], 'rne': [' '], 'ne ': ['p'], 'pol': ['l'], 'oll': ['u'], 'llu': ['t'], 'lut': ['a'], 'uta': ['n'], 'tan': ['t'], 'ant': ['s'], 'nts': [','], 'ts,': [' '], ', s': ['o', 'u', 'u'], 'r U': ['V'], 'VR,': [' '], 'R, ': ['a'], 'd r': ['a'], 'rai': ['n'], 'ain': ['f'], 'inf': ['a'], 'nfa': ['l'], 'fal': ['l'], 'll.': [' '], 'l. ': ['R'], '. R': ['e'], ' Re': ['c'], 'Rec': ['o'], 'eco': ['m'], 'end': ['e'], 'ded': [' '], ' st': ['r'], 'str': ['a'], 'teg': ['i'], 'egi': ['e'], 'gie': ['s'], 'ies': [' '], 's f': ['o'], ' pe': ['r'], 'ers': ['o'], 'rso': ['n'], 'son': ['a'], 'ona': ['l'], 'nal': [' '], 'l s': ['u'], 'n p': ['r'], ' pr': ['o'], 'pro': ['t'], 'rot': ['e'], 'ote': ['c'], 'tec': ['t'], 'cti': ['o'], 'on,': [' '], 'n, ': ['s', 'm'], 'suc': ['h'], 'uch': [' '], 'ch ': ['a', 'a'], 'h a': ['s', 'n'], 'sha': ['d'], 'had': ['e'], 'ade': [','], 'de,': [' '], ', c': ['l'], 'clo': ['t'], 'lot': ['h'], 'oth': ['i'], 'thi': ['n'], 'hin': ['g'], 'ng,': [' '], 'g, ': ['s'], 'ung': ['l'], 'ngl': ['a'], 'gla': ['s'], 'las': ['s'], 'ses': [' ', 's'], 'uns': ['c'], 'nsc': ['r'], 'scr': ['e'], 'ree': ['n'], 'en,': [' '], ', m': ['a'], 'may': [' '], 'ay ': ['c'], 's h': ['u'], 'n b': ['e'], 'beh': ['a'], 'eha': ['v'], 'hav': ['i'], 'iou': ['r'], 'our': [' '], 'ur ': ['a'], ' ad': ['a'], 'ada': ['p'], 'dap': ['t'], 'apt': ['s'], 'pts': [' '], 'a w': ['a'], ' wa': ['r'], 'war': ['m'], 'arm': ['i'], 'min': ['g'], '. F': ['u'], ' Fu': ['r'], 'Fur': ['t'], 'urt': ['h'], 'rth': ['e'], 'r r': ['e'], 'res': ['e'], 'ese': ['a'], 'ear': ['c'], 'arc': ['h'], 'rch': [' '], 'd d': ['a'], ' da': ['t'], 'dat': ['a'], 'ata': [' '], 'ta ': ['a'], 'req': ['u'], 'equ': ['i'], 'qui': ['r'], 'uir': ['e'], 'ire': ['d'], 'ess': [' '], 'ss ': ['a'], 'any': [' '], 'ny ': ['f'], 'y f': ['u'], ' fu': ['t'], 'fut': ['u'], 'utu': ['r'], 'mpa': ['c'], 'pac': ['t'], 'ct ': ['o'], 't o': ['f'], 'f c': ['l'], ' on': [' ']}\n"
     ]
    }
   ],
   "source": [
    "for i in range(len(text)-n):\n",
    "    gram= text[i:i+n]            # text[0:3] i.e. Cli\n",
    "    if gram not in ngrams.keys():\n",
    "        ngrams[gram]=[]\n",
    "    ngrams[gram].append(text[i+n])\n",
    "    \n",
    "print(ngrams)\n",
    "        "
   ]
  },
  {
   "cell_type": "markdown",
   "metadata": {},
   "source": [
    "# Testing NGram Model"
   ]
  },
  {
   "cell_type": "code",
   "execution_count": 33,
   "metadata": {},
   "outputs": [
    {
     "name": "stdout",
     "output_type": "stream",
     "text": [
      "Climate. Exposure with cost implica is and radiagnosis deemed by clothing climate changing, solar ultra\n"
     ]
    }
   ],
   "source": [
    "currentGram= text[0:n]\n",
    "result= currentGram\n",
    "for i in range(100):\n",
    "    if currentGram not in ngrams.keys():\n",
    "        break\n",
    "    possibilities= ngrams[currentGram]\n",
    "    nextItem= possibilities[random.randrange(len(possibilities))]\n",
    "    result+= nextItem\n",
    "    currentGram = result[len(result)-n:len(result)]\n",
    "    \n",
    "print(result)"
   ]
  },
  {
   "cell_type": "markdown",
   "metadata": {},
   "source": [
    "# Word NGRAM Model"
   ]
  },
  {
   "cell_type": "code",
   "execution_count": 36,
   "metadata": {
    "collapsed": true
   },
   "outputs": [],
   "source": [
    "ngrams={}\n",
    "words= nltk.word_tokenize(text)"
   ]
  },
  {
   "cell_type": "code",
   "execution_count": 52,
   "metadata": {},
   "outputs": [
    {
     "name": "stdout",
     "output_type": "stream",
     "text": [
      "{'Climate change is': ['associated', 'associated', 'associated'], 'change is associated': ['with', 'with', 'with'], 'is associated with': ['shifts', 'shifts', 'shifts'], 'associated with shifts': ['in', 'in', 'in'], 'with shifts in': ['global', 'global', 'global'], 'shifts in global': ['weather', 'weather', 'weather'], 'in global weather': ['patterns', 'patterns', 'patterns'], 'global weather patterns': [',', ',', ','], 'weather patterns ,': ['especially', 'especially', 'especially'], 'patterns , especially': ['an', 'an', 'an'], ', especially an': ['increase', 'increase', 'increase'], 'especially an increase': ['in', 'in', 'in'], 'an increase in': ['ambient', 'ambient', 'ambient'], 'increase in ambient': ['temperature', 'temperature', 'temperature'], 'in ambient temperature': [',', ',', ','], 'ambient temperature ,': ['and', 'and', 'and'], 'temperature , and': ['is', 'is', 'is'], ', and is': ['deemed', 'deemed', 'deemed'], 'and is deemed': ['a', 'a', 'a'], 'is deemed a': ['formidable', 'formidable', 'formidable'], 'deemed a formidable': ['threat', 'threat', 'threat'], 'a formidable threat': ['to', 'to', 'to'], 'formidable threat to': ['human', 'human', 'human'], 'threat to human': ['health', 'health', 'health'], 'to human health': ['.', '.', '.'], 'human health .': ['Skin', 'Skin', 'Skin'], 'health . Skin': ['cancer', 'cancer', 'cancer'], '. Skin cancer': [',', ',', ','], 'Skin cancer ,': ['a', 'a', 'a'], 'cancer , a': ['non-communicable', 'non-communicable', 'non-communicable'], ', a non-communicable': ['disease', 'disease', 'disease'], 'a non-communicable disease': [',', ',', ','], 'non-communicable disease ,': ['has', 'has', 'has'], 'disease , has': ['been', 'been', 'been'], ', has been': ['underexplored', 'underexplored', 'underexplored'], 'has been underexplored': ['in', 'in', 'in'], 'been underexplored in': ['relation', 'relation', 'relation'], 'underexplored in relation': ['to', 'to', 'to'], 'in relation to': ['a', 'a', 'a'], 'relation to a': ['changing', 'changing', 'changing'], 'to a changing': ['climate', 'climate', 'climate'], 'a changing climate': ['.', '.', '.'], 'changing climate .': ['Exposure', 'Exposure', 'Exposure'], 'climate . Exposure': ['to', 'to', 'to'], '. Exposure to': ['solar', 'solar', 'solar'], 'Exposure to solar': ['ultraviolet', 'ultraviolet', 'ultraviolet'], 'to solar ultraviolet': ['radiation', 'radiation', 'radiation'], 'solar ultraviolet radiation': ['(', '(', '('], 'ultraviolet radiation (': ['UVR', 'UVR', 'UVR'], 'radiation ( UVR': [')', ')', ')'], '( UVR )': ['is', 'is', 'is'], 'UVR ) is': ['the', 'the', 'the'], ') is the': ['major', 'major', 'major'], 'is the major': ['environmental', 'environmental', 'environmental'], 'the major environmental': ['risk', 'risk', 'risk'], 'major environmental risk': ['factor', 'factor', 'factor'], 'environmental risk factor': ['for', 'for', 'for'], 'risk factor for': ['skin', 'skin', 'skin'], 'factor for skin': ['cancer', 'cancer', 'cancer'], 'for skin cancer': ['.', '.', '.'], 'skin cancer .': ['South', 'South', 'South'], 'cancer . South': ['Africa', 'Africa', 'Africa'], '. South Africa': ['is', 'is', 'is'], 'South Africa is': ['situated', 'situated', 'situated'], 'Africa is situated': ['in', 'in', 'in'], 'is situated in': ['the', 'the', 'the'], 'situated in the': ['mid-latitudes', 'mid-latitudes', 'mid-latitudes'], 'in the mid-latitudes': ['and', 'and', 'and'], 'the mid-latitudes and': ['experiences', 'experiences', 'experiences'], 'mid-latitudes and experiences': ['relatively', 'relatively', 'relatively'], 'and experiences relatively': ['high', 'high', 'high'], 'experiences relatively high': ['levels', 'levels', 'levels'], 'relatively high levels': ['of', 'of', 'of'], 'high levels of': ['sun', 'sun', 'sun'], 'levels of sun': ['exposure', 'exposure', 'exposure'], 'of sun exposure': ['with', 'with', 'with'], 'sun exposure with': ['summertime', 'summertime', 'summertime'], 'exposure with summertime': ['UV', 'UV', 'UV'], 'with summertime UV': ['Index', 'Index', 'Index'], 'summertime UV Index': ['values', 'values', 'values'], 'UV Index values': ['greater', 'greater', 'greater'], 'Index values greater': ['than', 'than', 'than'], 'values greater than': ['10', '10', '10'], 'greater than 10': ['.', '.', '.'], 'than 10 .': ['The', 'The', 'The'], '10 . The': ['incidence', 'incidence', 'incidence'], '. The incidence': ['of', 'of', 'of'], 'The incidence of': ['skin', 'skin', 'skin'], 'incidence of skin': ['cancer', 'cancer', 'cancer', 'cancer', 'cancer', 'cancer'], 'of skin cancer': ['in', 'in', 'in', 'in', 'in', 'in'], 'skin cancer in': ['the', 'South', 'the', 'South', 'the', 'South'], 'cancer in the': ['population', 'population', 'population'], 'in the population': ['group', 'group', 'group'], 'the population group': ['with', 'with', 'with'], 'population group with': ['fair', 'fair', 'fair'], 'group with fair': ['skin', 'skin', 'skin'], 'with fair skin': ['is', 'is', 'is'], 'fair skin is': ['considered', 'considered', 'considered'], 'skin is considered': ['high', 'high', 'high'], 'is considered high': [',', ',', ','], 'considered high ,': ['with', 'with', 'with'], 'high , with': ['cost', 'cost', 'cost'], ', with cost': ['implications', 'implications', 'implications'], 'with cost implications': ['relating', 'relating', 'relating'], 'cost implications relating': ['to', 'to', 'to'], 'implications relating to': ['diagnosis', 'diagnosis', 'diagnosis'], 'relating to diagnosis': ['and', 'and', 'and'], 'to diagnosis and': ['treatment', 'treatment', 'treatment'], 'diagnosis and treatment': ['.', '.', '.'], 'and treatment .': ['Here', 'Here', 'Here'], 'treatment . Here': [',', ',', ','], '. Here ,': ['the', 'the', 'the'], 'Here , the': ['relationship', 'relationship', 'relationship'], ', the relationship': ['between', 'between', 'between'], 'the relationship between': ['skin', 'skin', 'skin'], 'relationship between skin': ['cancer', 'cancer', 'cancer'], 'between skin cancer': ['and', 'and', 'and'], 'skin cancer and': ['several', 'several', 'several'], 'cancer and several': ['environmental', 'environmental', 'environmental'], 'and several environmental': ['factors', 'factors', 'factors'], 'several environmental factors': ['likely', 'likely', 'likely'], 'environmental factors likely': ['to', 'to', 'to'], 'factors likely to': ['be', 'be', 'be'], 'likely to be': ['affected', 'affected', 'affected'], 'to be affected': ['by', 'by', 'by'], 'be affected by': ['climate', 'climate', 'climate'], 'affected by climate': ['change', 'change', 'change'], 'by climate change': ['in', 'in', 'in'], 'climate change in': ['South', 'South', 'South'], 'change in South': ['Africa', 'Africa', 'Africa'], 'in South Africa': ['are', '.', 'are', '.', 'are', '.'], 'South Africa are': ['discussed', 'discussed', 'discussed'], 'Africa are discussed': ['including', 'including', 'including'], 'are discussed including': ['airborne', 'airborne', 'airborne'], 'discussed including airborne': ['pollutants', 'pollutants', 'pollutants'], 'including airborne pollutants': [',', ',', ','], 'airborne pollutants ,': ['solar', 'solar', 'solar'], 'pollutants , solar': ['UVR', 'UVR', 'UVR'], ', solar UVR': [',', ',', ','], 'solar UVR ,': ['ambient', 'ambient', 'ambient'], 'UVR , ambient': ['temperature', 'temperature', 'temperature'], ', ambient temperature': ['and', 'and', 'and'], 'ambient temperature and': ['rainfall', 'rainfall', 'rainfall'], 'temperature and rainfall': ['.', '.', '.'], 'and rainfall .': ['Recommended', 'Recommended', 'Recommended'], 'rainfall . Recommended': ['strategies', 'strategies', 'strategies'], '. Recommended strategies': ['for', 'for', 'for'], 'Recommended strategies for': ['personal', 'personal', 'personal'], 'strategies for personal': ['sun', 'sun', 'sun'], 'for personal sun': ['protection', 'protection', 'protection'], 'personal sun protection': [',', ',', ','], 'sun protection ,': ['such', 'such', 'such'], 'protection , such': ['as', 'as', 'as'], ', such as': ['shade', 'shade', 'shade'], 'such as shade': [',', ',', ','], 'as shade ,': ['clothing', 'clothing', 'clothing'], 'shade , clothing': [',', ',', ','], ', clothing ,': ['sunglasses', 'sunglasses', 'sunglasses'], 'clothing , sunglasses': ['and', 'and', 'and'], ', sunglasses and': ['sunscreen', 'sunscreen', 'sunscreen'], 'sunglasses and sunscreen': [',', ',', ','], 'and sunscreen ,': ['may', 'may', 'may'], 'sunscreen , may': ['change', 'change', 'change'], ', may change': ['as', 'as', 'as'], 'may change as': ['human', 'human', 'human'], 'change as human': ['behaviour', 'behaviour', 'behaviour'], 'as human behaviour': ['adapts', 'adapts', 'adapts'], 'human behaviour adapts': ['to', 'to', 'to'], 'behaviour adapts to': ['a', 'a', 'a'], 'adapts to a': ['warming', 'warming', 'warming'], 'to a warming': ['climate', 'climate', 'climate'], 'a warming climate': ['.', '.', '.'], 'warming climate .': ['Further', 'Further', 'Further'], 'climate . Further': ['research', 'research', 'research'], '. Further research': ['and', 'and', 'and'], 'Further research and': ['data', 'data', 'data'], 'research and data': ['are', 'are', 'are'], 'and data are': ['required', 'required', 'required'], 'data are required': ['to', 'to', 'to'], 'are required to': ['assess', 'assess', 'assess'], 'required to assess': ['any', 'any', 'any'], 'to assess any': ['future', 'future', 'future'], 'assess any future': ['impact', 'impact', 'impact'], 'any future impact': ['of', 'of', 'of'], 'future impact of': ['climate', 'climate', 'climate'], 'impact of climate': ['change', 'change', 'change'], 'of climate change': ['on', 'on', 'on'], 'climate change on': ['the', 'the', 'the'], 'change on the': ['incidence', 'incidence', 'incidence'], 'on the incidence': ['of', 'of', 'of'], 'the incidence of': ['skin', 'skin', 'skin'], 'cancer in South': ['Africa', 'Africa', 'Africa']}\n"
     ]
    }
   ],
   "source": [
    "for i in range(len(words)-n):\n",
    "    gram= ' '.join(words[i:i+n])\n",
    "    if gram not in ngrams.keys():\n",
    "        ngrams[gram]=[]\n",
    "    ngrams[gram].append(words[i+n])\n",
    "    \n",
    "print(ngrams)"
   ]
  },
  {
   "cell_type": "code",
   "execution_count": 56,
   "metadata": {},
   "outputs": [],
   "source": [
    "currentGram= ' '.join(words[0:n])\n",
    "result=currentGram\n",
    "for i in range(30):\n",
    "    if currentGram not in ngrams.keys():\n",
    "        break\n",
    "    possibilities= ngrams[currentGram]\n",
    "    nextItem= possibilities[random.randrange(len(possibilities))]\n",
    "    result += ' ' + nextItem\n",
    "    rwords=nltk.word_tokenize(result)\n",
    "    currentGram = ' '.join(rwords[len(rwords)-n:len(rwords)])"
   ]
  },
  {
   "cell_type": "code",
   "execution_count": 57,
   "metadata": {},
   "outputs": [
    {
     "name": "stdout",
     "output_type": "stream",
     "text": [
      "Climate change is associated with shifts in global weather patterns , especially an increase in ambient temperature , and is deemed a formidable threat to human health . Skin cancer , a non-communicable\n"
     ]
    }
   ],
   "source": [
    "print(result)"
   ]
  },
  {
   "cell_type": "code",
   "execution_count": null,
   "metadata": {
    "collapsed": true
   },
   "outputs": [],
   "source": []
  }
 ],
 "metadata": {
  "kernelspec": {
   "display_name": "Python 3",
   "language": "python",
   "name": "python3"
  },
  "language_info": {
   "codemirror_mode": {
    "name": "ipython",
    "version": 3
   },
   "file_extension": ".py",
   "mimetype": "text/x-python",
   "name": "python",
   "nbconvert_exporter": "python",
   "pygments_lexer": "ipython3",
   "version": "3.6.2"
  }
 },
 "nbformat": 4,
 "nbformat_minor": 2
}
